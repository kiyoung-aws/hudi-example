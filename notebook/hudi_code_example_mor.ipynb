{
  "metadata" : {
    "config" : {
      "dependencies" : {
        "scala" : [
          "org.apache.hudi:hudi-spark-bundle_2.11:0.5.2-incubating",
          "org.apache.spark:spark-avro_2.11:2.4.4",
          "org.apache.httpcomponents:httpclient:4.5.12"
        ]
      },
      "exclusions" : [
      ],
      "repositories" : [
      ],
      "sparkConfig" : {
        "spark.serializer" : "org.apache.spark.serializer.KryoSerializer",
        "spark.sql.hive.convertMetastoreParquet" : "false",
        "spark.driver.memory" : "2g",
        "spark.executor.instances" : "2",
        "spark.default.parallelism" : "4",
        "spark.driver.cores" : "1",
        "spark.master" : "yarn",
        "spark.executor.memory" : "3g",
        "spark.dynamicAllocation.enabled" : "false",
        "spark.executor.cores" : "2",
        "spark.sql.shuffle.partitions" : "4"
      },
      "env" : {
        
      }
    },
    "language_info" : {
      "name" : "scala"
    }
  },
  "nbformat" : 4,
  "nbformat_minor" : 0,
  "cells" : [
    {
      "cell_type" : "markdown",
      "execution_count" : 0,
      "metadata" : {
        "language" : "text"
      },
      "language" : "text",
      "source" : [
        "# Hudi example<br>\n",
        "\n",
        "\n"
      ],
      "outputs" : [
      ]
    },
    {
      "cell_type" : "code",
      "execution_count" : 1,
      "metadata" : {
        "cell.metadata.exec_info" : {
          "startTs" : 1593584066568,
          "endTs" : 1593584066870
        },
        "language" : "scala"
      },
      "language" : "scala",
      "source" : [
        "import org.apache.hadoop.fs.FileSystem\n",
        "import org.apache.hudi.QuickstartUtils._\n",
        "import org.apache.spark.sql.SaveMode._\n",
        "import org.apache.spark.sql.functions._\n",
        "import org.apache.hudi.DataSourceReadOptions._\n",
        "import org.apache.hudi.DataSourceWriteOptions._\n",
        "import org.apache.hudi.config.HoodieWriteConfig._\n",
        "import scala.collection.JavaConversions._"
      ],
      "outputs" : [
      ]
    },
    {
      "cell_type" : "code",
      "execution_count" : 2,
      "metadata" : {
        "cell.metadata.exec_info" : {
          "startTs" : 1593584068322,
          "endTs" : 1593584077778
        },
        "language" : "scala"
      },
      "language" : "scala",
      "source" : [
        "// olist_orders dataset\n",
        "val datasetPath = \"s3://kiyoung-data-us-east-1/dataset/olist_orders_dataset\"\n",
        "val df = spark.read.load(datasetPath)"
      ],
      "outputs" : [
      ]
    },
    {
      "cell_type" : "code",
      "execution_count" : 3,
      "metadata" : {
        "cell.metadata.exec_info" : {
          "startTs" : 1593584079510,
          "endTs" : 1593584082144
        },
        "language" : "scala"
      },
      "language" : "scala",
      "source" : [
        "// 데이터는 잘 있습니다.\n",
        "df.show"
      ],
      "outputs" : [
        {
          "name" : "stdout",
          "text" : [
            "+--------------------+--------------------+------------+------------------------+-------------------+----------------------------+-----------------------------+-----------------------------+\n",
            "|            order_id|         customer_id|order_status|order_purchase_timestamp|  order_approved_at|order_delivered_carrier_date|order_delivered_customer_date|order_estimated_delivery_date|\n",
            "+--------------------+--------------------+------------+------------------------+-------------------+----------------------------+-----------------------------+-----------------------------+\n",
            "|995392413cee61cc1...|4bf24904ec428325a...|   delivered|     2017-09-04 13:24:05|2017-09-04 13:43:54|         2017-09-13 08:20:04|          2017-09-22 12:09:32|          2017-09-26 15:00:00|\n",
            "|b39de9ed2bb8fd08a...|ed18b557140ff674f...|   delivered|     2018-03-27 00:15:17|2018-03-27 00:30:12|         2018-03-27 14:52:09|          2018-04-11 12:51:02|          2018-04-25 15:00:00|\n",
            "|b1a88554eb1f7f686...|5cf799d0ac88e1d32...|   delivered|     2018-06-12 17:19:56|2018-06-13 17:39:10|         2018-06-14 04:55:00|          2018-06-20 12:07:29|          2018-07-12 15:00:00|\n",
            "|fe2ac30768e07e362...|be07f06f183227b5c...|   delivered|     2017-01-16 07:41:18|2017-01-16 08:30:23|         2017-01-17 02:26:52|          2017-01-26 07:24:07|          2017-02-21 15:00:00|\n",
            "|460673777918e7a42...|6f352988122e277e6...|   delivered|     2018-02-07 13:38:41|2018-02-08 13:30:24|         2018-02-09 07:56:51|          2018-02-24 09:06:45|          2018-03-04 15:00:00|\n",
            "|c170c51c1eb31dee8...|3dd75da63afb021f9...|   delivered|     2017-10-04 06:32:22|2017-10-04 06:44:49|         2017-10-06 12:42:15|          2017-10-11 10:06:33|          2017-10-29 15:00:00|\n",
            "|575ca88a26f8e32bb...|d73698c8fc11e06d4...|   delivered|     2018-01-10 03:01:27|2018-01-11 02:52:23|         2018-01-12 13:00:11|          2018-02-08 15:09:00|          2018-02-13 15:00:00|\n",
            "|20fb6eab29c449df8...|2020c90730cbf8fae...|   delivered|     2018-02-02 01:06:00|2018-02-02 01:16:08|         2018-02-06 12:59:28|          2018-02-23 14:56:35|          2018-03-05 15:00:00|\n",
            "|96c21ec9db51ad9d0...|14f2ec23fb7f10a1c...|   delivered|     2017-08-14 11:49:22|2017-08-14 12:30:23|         2017-08-15 07:42:26|          2017-08-16 05:46:49|          2017-08-24 15:00:00|\n",
            "|750ed62dff96bf571...|a05f88744e7de808e...|    canceled|     2018-05-28 02:18:59|2018-05-28 18:15:20|                        null|                         null|          2018-06-19 15:00:00|\n",
            "|7cc42e63e4677cbb3...|89c95f6bba6ab0759...|   delivered|     2018-05-14 03:48:29|2018-05-14 04:16:57|         2018-05-15 23:54:00|          2018-05-21 12:42:11|          2018-05-28 15:00:00|\n",
            "|e36869cebed0b0d8f...|5f8fcc77fad064960...|   delivered|     2017-06-29 06:27:53|2017-06-29 06:35:20|         2017-06-30 05:28:12|          2017-07-09 06:47:43|          2017-08-01 15:00:00|\n",
            "|c2fd626797fb5ca56...|3f177c07b625f8800...|   delivered|     2018-03-13 07:58:02|2018-03-14 18:15:51|         2018-03-15 09:28:52|          2018-04-04 07:48:30|          2018-04-17 15:00:00|\n",
            "|88ed58abfdfae2aeb...|253a82284b4833ac3...|   delivered|     2018-04-24 09:28:49|2018-04-24 10:23:34|         2018-04-25 21:20:00|          2018-04-30 12:12:03|          2018-05-21 15:00:00|\n",
            "|e5a8151b77b30febb...|bc0268fa49c936b82...|   delivered|     2017-11-02 12:17:47|2017-11-02 12:30:26|         2017-11-03 11:57:30|          2017-11-08 10:14:01|          2017-11-22 15:00:00|\n",
            "|448a4837b41e7f24a...|85e150f36bbcdbcee...|   delivered|     2018-06-14 05:28:01|2018-06-14 05:58:51|         2018-06-14 05:20:00|          2018-06-25 07:18:43|          2018-07-16 15:00:00|\n",
            "|5d4f5212371724259...|9534eefb05c89b50b...|   delivered|     2017-09-11 02:29:12|2017-09-11 02:43:43|         2017-09-13 07:41:25|          2017-09-25 09:42:41|          2017-10-08 15:00:00|\n",
            "|71affeaa67493ff0d...|f369d58e475e144e5...|   delivered|     2018-04-10 09:30:50|2018-04-10 09:50:21|         2018-04-12 10:41:08|          2018-04-16 09:21:45|          2018-05-08 15:00:00|\n",
            "|4baa06417aa0574e5...|e4b6766132b13b3ab...|   delivered|     2018-04-07 02:31:07|2018-04-09 19:10:49|         2018-04-10 13:41:56|          2018-04-17 13:03:28|          2018-05-14 15:00:00|\n",
            "|5ffe81e9175008222...|497ee8ce7cf70245d...|   delivered|     2017-09-26 07:44:24|2017-09-26 07:57:02|         2017-09-27 06:30:33|          2017-10-11 09:38:14|          2017-10-30 15:00:00|\n",
            "+--------------------+--------------------+------------+------------------------+-------------------+----------------------------+-----------------------------+-----------------------------+\n",
            "only showing top 20 rows\n",
            "\n"
          ],
          "output_type" : "stream"
        }
      ]
    },
    {
      "cell_type" : "code",
      "execution_count" : 4,
      "metadata" : {
        "cell.metadata.exec_info" : {
          "startTs" : 1593583841318,
          "endTs" : 1593583841477
        },
        "language" : "scala"
      },
      "language" : "scala",
      "source" : [
        "// 스키마는 이렇게 생겼습니다.\n",
        "df.printSchema"
      ],
      "outputs" : [
        {
          "name" : "stdout",
          "text" : [
            "root\n",
            " |-- order_id: string (nullable = true)\n",
            " |-- customer_id: string (nullable = true)\n",
            " |-- order_status: string (nullable = true)\n",
            " |-- order_purchase_timestamp: timestamp (nullable = true)\n",
            " |-- order_approved_at: timestamp (nullable = true)\n",
            " |-- order_delivered_carrier_date: timestamp (nullable = true)\n",
            " |-- order_delivered_customer_date: timestamp (nullable = true)\n",
            " |-- order_estimated_delivery_date: timestamp (nullable = true)\n",
            "\n"
          ],
          "output_type" : "stream"
        }
      ]
    },
    {
      "cell_type" : "code",
      "execution_count" : 5,
      "metadata" : {
        "cell.metadata.exec_info" : {
          "startTs" : 1593584087017,
          "endTs" : 1593584087499
        },
        "language" : "scala"
      },
      "language" : "scala",
      "source" : [
        "// hudi 데이터를 저장할 path 와 table 이름 입니다.\n",
        "val basePath = \"s3://kiyoung-data-store-us-east-1/hudi/olist_orders_dataset_mor\"\n",
        "val dbName = \"hudi\"\n",
        "val tableName = \"olist_orders_mor\"\n",
        "\n",
        "// 이 녀석은 예제에 많이 나오는 녀석인데, 별 것은 아니고, hoodie의 parallelism 셋팅 입니다.\n",
        "getQuickstartWriteConfigs"
      ],
      "outputs" : [
        {
          "execution_count" : 5,
          "data" : {
            "text/plain" : [
              "{hoodie.upsert.shuffle.parallelism=2, hoodie.insert.shuffle.parallelism=2}"
            ]
          },
          "metadata" : {
            "name" : "Out",
            "type" : "Map[String, String]"
          },
          "output_type" : "execute_result"
        }
      ]
    },
    {
      "cell_type" : "code",
      "execution_count" : 7,
      "metadata" : {
        "cell.metadata.exec_info" : {
          "startTs" : 1593584125630,
          "endTs" : 1593584160300
        },
        "language" : "scala"
      },
      "language" : "scala",
      "source" : [
        "// Insert \n",
        "// TABLE_TYPE_OPT_KEY 를 MERGE_ON_READ로 지정하였습니다.\n",
        "df.withColumn(\"order_purchase_date\", regexp_replace(date_format(to_date(col(\"order_purchase_timestamp\")), \"yyyy-MM-dd\"), \"-\", \"/\"))\n",
        "  .filter(\"order_purchase_date='2018/05/28' or order_purchase_date='2017/09/11' or order_purchase_date='2018/08/10' or order_purchase_date='2017/01/06'\")\n",
        "  .write\n",
        "  .format(\"hudi\")\n",
        "  .options(getQuickstartWriteConfigs)\n",
        "  .option(RECORDKEY_FIELD_OPT_KEY, \"order_id\")\n",
        "  .option(PRECOMBINE_FIELD_OPT_KEY, \"order_purchase_timestamp\")\n",
        "  .option(PARTITIONPATH_FIELD_OPT_KEY, \"order_purchase_date\")\n",
        "  .option(TABLE_TYPE_OPT_KEY, \"MERGE_ON_READ\")\n",
        "  .option(HIVE_SYNC_ENABLED_OPT_KEY, \"true\")\n",
        "  .option(HIVE_PARTITION_FIELDS_OPT_KEY, \"order_purchase_date\")\n",
        "  .option(HIVE_DATABASE_OPT_KEY, dbName)\n",
        "  .option(HIVE_TABLE_OPT_KEY, tableName)\n",
        "  .option(TABLE_NAME, tableName)\n",
        "  .mode(Overwrite)\n",
        "  .save(basePath)\n",
        "\n",
        "// athena 에서 보시면 olist_orders_mor_ro, olist_orders_mor_rt 두개의 테이블이 생긴것을 보실 수 있습니다.\n",
        "// <table_name>_rt - supports snapshot query and incremental query. base와 log 데이터를 합친 데이터를 보여줍니다.\n",
        "//                   (HoodieParquetRealtimeInputFormat)\n",
        "// <table_name>_ro - supports snapshot query and incremental query. base 데이터를 보여줍니다.\n",
        "//                   HoodieParquetInputFormat\n",
        "\n",
        "// Hudi 에서 쿼리 해 보겠습니다.\n",
        "// _ro 테이블은 쿼리가 되나, _rt 테이블은 오류가 발생하는 것을 보실 수 있습니다.\n",
        "// Athena는 현재는 Read Optimized (_ro)만 지원 합니다."
      ],
      "outputs" : [
      ]
    },
    {
      "cell_type" : "code",
      "execution_count" : 21,
      "metadata" : {
        "cell.metadata.exec_info" : {
          "startTs" : 1593584740564,
          "endTs" : 1593584746879
        },
        "language" : "scala"
      },
      "language" : "scala",
      "source" : [
        "// 그렇다면 spark sql / hive / presto는 어떨까요?\n",
        "println(\"**** olist_orders_mor_ro ****\")\n",
        "spark.sql(\"\"\"\n",
        "    select *\n",
        "    from hudi.olist_orders_mor_ro\n",
        "    where order_purchase_date = '2017-01-06'\n",
        "\"\"\").show(false)\n",
        "\n",
        "println(\"**** olist_orders_mor_rt ****\")\n",
        "spark.sql(\"\"\"\n",
        "    select *\n",
        "    from hudi.olist_orders_mor_rt\n",
        "    where order_purchase_date = '2017-01-06'\n",
        "\"\"\").show(false)\n",
        "\n",
        "// spark, hive 는 잘 되며, presto는 ro만 지원합니다.\n",
        "// https://hudi.apache.org/docs/querying_data.html"
      ],
      "outputs" : [
        {
          "name" : "stdout",
          "text" : [
            "**** olist_orders_mor_ro ****\n",
            "+-------------------+--------------------+--------------------------------+----------------------+---------------------------------------------------------------------+--------------------------------+--------------------------------+------------+------------------------+-----------------+----------------------------+-----------------------------+-----------------------------+-------------------+\n",
            "|_hoodie_commit_time|_hoodie_commit_seqno|_hoodie_record_key              |_hoodie_partition_path|_hoodie_file_name                                                    |order_id                        |customer_id                     |order_status|order_purchase_timestamp|order_approved_at|order_delivered_carrier_date|order_delivered_customer_date|order_estimated_delivery_date|order_purchase_date|\n",
            "+-------------------+--------------------+--------------------------------+----------------------+---------------------------------------------------------------------+--------------------------------+--------------------------------+------------+------------------------+-----------------+----------------------------+-----------------------------+-----------------------------+-------------------+\n",
            "|20200701061526     |20200701061526_1_2  |89898719573722b59b173f76fb213501|2017/01/06            |5d8c1252-db0c-4913-8581-96ca5030449c-0_1-22-40_20200701061526.parquet|89898719573722b59b173f76fb213501|d2b141e8cefd8acb97baee4b25b01ea5|delivered   |1483716887000000        |1483717815000000 |1484027555000000            |1488773700000000             |1487084400000000             |2017-01-06         |\n",
            "|20200701061526     |20200701061526_1_4  |bf44408de1d05eef70fb026ba64a90ea|2017/01/06            |5d8c1252-db0c-4913-8581-96ca5030449c-0_1-22-40_20200701061526.parquet|bf44408de1d05eef70fb026ba64a90ea|96054b94409f7712eeffe8edfa6959a6|delivered   |1483705838000000        |1483985435000000 |1484016786000000            |1484181836000000             |1486998000000000             |2017-01-06         |\n",
            "|20200701061526     |20200701061526_1_5  |1b3d11cf9f92c0f7baf627ab059621f8|2017/01/06            |5d8c1252-db0c-4913-8581-96ca5030449c-0_1-22-40_20200701061526.parquet|1b3d11cf9f92c0f7baf627ab059621f8|85ed641fe825f188f1a67b317b5f540c|delivered   |1483713083000000        |1483713848000000 |1483922036000000            |1484641669000000             |1487170800000000             |2017-01-06         |\n",
            "|20200701061526     |20200701061526_1_6  |e6db6e9529fecbe14cd05dd349816656|2017/01/06            |5d8c1252-db0c-4913-8581-96ca5030449c-0_1-22-40_20200701061526.parquet|e6db6e9529fecbe14cd05dd349816656|6b3efc29f67766dd725bb29e857614f2|delivered   |1483705669000000        |1483706120000000 |1483931314000000            |1484283449000000             |1487516400000000             |2017-01-06         |\n",
            "|20200701061526     |20200701061526_1_7  |157ec3dc3f38cdbd2706bd216edfe8fb|2017/01/06            |5d8c1252-db0c-4913-8581-96ca5030449c-0_1-22-40_20200701061526.parquet|157ec3dc3f38cdbd2706bd216edfe8fb|7dfd10dcc726950fc6171cea83872351|delivered   |1483677796000000        |1483678511000000 |1483945413000000            |1484272693000000             |1487170800000000             |2017-01-06         |\n",
            "+-------------------+--------------------+--------------------------------+----------------------+---------------------------------------------------------------------+--------------------------------+--------------------------------+------------+------------------------+-----------------+----------------------------+-----------------------------+-----------------------------+-------------------+\n",
            "\n",
            "**** olist_orders_mor_rt ****\n",
            "+-------------------+--------------------+--------------------------------+----------------------+---------------------------------------------------------------------+--------------------------------+--------------------------------+------------+------------------------+-----------------+----------------------------+-----------------------------+-----------------------------+-------------------+\n",
            "|_hoodie_commit_time|_hoodie_commit_seqno|_hoodie_record_key              |_hoodie_partition_path|_hoodie_file_name                                                    |order_id                        |customer_id                     |order_status|order_purchase_timestamp|order_approved_at|order_delivered_carrier_date|order_delivered_customer_date|order_estimated_delivery_date|order_purchase_date|\n",
            "+-------------------+--------------------+--------------------------------+----------------------+---------------------------------------------------------------------+--------------------------------+--------------------------------+------------+------------------------+-----------------+----------------------------+-----------------------------+-----------------------------+-------------------+\n",
            "|20200701061526     |20200701061526_1_2  |89898719573722b59b173f76fb213501|2017/01/06            |5d8c1252-db0c-4913-8581-96ca5030449c-0_1-22-40_20200701061526.parquet|89898719573722b59b173f76fb213501|d2b141e8cefd8acb97baee4b25b01ea5|delivered   |1483716887000000        |1483717815000000 |1484027555000000            |1488773700000000             |1487084400000000             |2017-01-06         |\n",
            "|20200701061526     |20200701061526_1_4  |bf44408de1d05eef70fb026ba64a90ea|2017/01/06            |5d8c1252-db0c-4913-8581-96ca5030449c-0_1-22-40_20200701061526.parquet|bf44408de1d05eef70fb026ba64a90ea|96054b94409f7712eeffe8edfa6959a6|delivered   |1483705838000000        |1483985435000000 |1484016786000000            |1484181836000000             |1486998000000000             |2017-01-06         |\n",
            "|20200701061526     |20200701061526_1_5  |1b3d11cf9f92c0f7baf627ab059621f8|2017/01/06            |5d8c1252-db0c-4913-8581-96ca5030449c-0_1-22-40_20200701061526.parquet|1b3d11cf9f92c0f7baf627ab059621f8|85ed641fe825f188f1a67b317b5f540c|delivered   |1483713083000000        |1483713848000000 |1483922036000000            |1484641669000000             |1487170800000000             |2017-01-06         |\n",
            "|20200701061526     |20200701061526_1_6  |e6db6e9529fecbe14cd05dd349816656|2017/01/06            |5d8c1252-db0c-4913-8581-96ca5030449c-0_1-22-40_20200701061526.parquet|e6db6e9529fecbe14cd05dd349816656|6b3efc29f67766dd725bb29e857614f2|delivered   |1483705669000000        |1483706120000000 |1483931314000000            |1484283449000000             |1487516400000000             |2017-01-06         |\n",
            "|20200701061526     |20200701061526_1_7  |157ec3dc3f38cdbd2706bd216edfe8fb|2017/01/06            |5d8c1252-db0c-4913-8581-96ca5030449c-0_1-22-40_20200701061526.parquet|157ec3dc3f38cdbd2706bd216edfe8fb|7dfd10dcc726950fc6171cea83872351|delivered   |1483677796000000        |1483678511000000 |1483945413000000            |1484272693000000             |1487170800000000             |2017-01-06         |\n",
            "+-------------------+--------------------+--------------------------------+----------------------+---------------------------------------------------------------------+--------------------------------+--------------------------------+------------+------------------------+-----------------+----------------------------+-----------------------------+-----------------------------+-------------------+\n",
            "\n"
          ],
          "output_type" : "stream"
        }
      ]
    },
    {
      "cell_type" : "code",
      "execution_count" : 12,
      "metadata" : {
        "cell.metadata.exec_info" : {
          "startTs" : 1593584933990,
          "endTs" : 1593584937250
        },
        "language" : "scala"
      },
      "language" : "scala",
      "source" : [
        "// update\n",
        "\n",
        "// 데이터 로드\n",
        "// 한 2017년 1월 6일의 데이터를 로드 하도록 하겠습니다.\n",
        "val olistOrdersDF = spark.sql(\"\"\"\n",
        "    select *\n",
        "    from hudi.olist_orders_mor_ro\n",
        "    where order_purchase_date = '2017-01-06'\n",
        "\"\"\")\n",
        "\n",
        "olistOrdersDF.show(false)"
      ],
      "outputs" : [
        {
          "name" : "stdout",
          "text" : [
            "+-------------------+--------------------+--------------------------------+----------------------+---------------------------------------------------------------------+--------------------------------+--------------------------------+------------+------------------------+-----------------+----------------------------+-----------------------------+-----------------------------+-------------------+\n",
            "|_hoodie_commit_time|_hoodie_commit_seqno|_hoodie_record_key              |_hoodie_partition_path|_hoodie_file_name                                                    |order_id                        |customer_id                     |order_status|order_purchase_timestamp|order_approved_at|order_delivered_carrier_date|order_delivered_customer_date|order_estimated_delivery_date|order_purchase_date|\n",
            "+-------------------+--------------------+--------------------------------+----------------------+---------------------------------------------------------------------+--------------------------------+--------------------------------+------------+------------------------+-----------------+----------------------------+-----------------------------+-----------------------------+-------------------+\n",
            "|20200701061526     |20200701061526_1_2  |89898719573722b59b173f76fb213501|2017/01/06            |5d8c1252-db0c-4913-8581-96ca5030449c-0_1-22-40_20200701061526.parquet|89898719573722b59b173f76fb213501|d2b141e8cefd8acb97baee4b25b01ea5|delivered   |1483716887000000        |1483717815000000 |1484027555000000            |1488773700000000             |1487084400000000             |2017-01-06         |\n",
            "|20200701061526     |20200701061526_1_4  |bf44408de1d05eef70fb026ba64a90ea|2017/01/06            |5d8c1252-db0c-4913-8581-96ca5030449c-0_1-22-40_20200701061526.parquet|bf44408de1d05eef70fb026ba64a90ea|96054b94409f7712eeffe8edfa6959a6|delivered   |1483705838000000        |1483985435000000 |1484016786000000            |1484181836000000             |1486998000000000             |2017-01-06         |\n",
            "|20200701061526     |20200701061526_1_5  |1b3d11cf9f92c0f7baf627ab059621f8|2017/01/06            |5d8c1252-db0c-4913-8581-96ca5030449c-0_1-22-40_20200701061526.parquet|1b3d11cf9f92c0f7baf627ab059621f8|85ed641fe825f188f1a67b317b5f540c|delivered   |1483713083000000        |1483713848000000 |1483922036000000            |1484641669000000             |1487170800000000             |2017-01-06         |\n",
            "|20200701061526     |20200701061526_1_6  |e6db6e9529fecbe14cd05dd349816656|2017/01/06            |5d8c1252-db0c-4913-8581-96ca5030449c-0_1-22-40_20200701061526.parquet|e6db6e9529fecbe14cd05dd349816656|6b3efc29f67766dd725bb29e857614f2|delivered   |1483705669000000        |1483706120000000 |1483931314000000            |1484283449000000             |1487516400000000             |2017-01-06         |\n",
            "|20200701061526     |20200701061526_1_7  |157ec3dc3f38cdbd2706bd216edfe8fb|2017/01/06            |5d8c1252-db0c-4913-8581-96ca5030449c-0_1-22-40_20200701061526.parquet|157ec3dc3f38cdbd2706bd216edfe8fb|7dfd10dcc726950fc6171cea83872351|delivered   |1483677796000000        |1483678511000000 |1483945413000000            |1484272693000000             |1487170800000000             |2017-01-06         |\n",
            "+-------------------+--------------------+--------------------------------+----------------------+---------------------------------------------------------------------+--------------------------------+--------------------------------+------------+------------------------+-----------------+----------------------------+-----------------------------+-----------------------------+-------------------+\n",
            "\n"
          ],
          "output_type" : "stream"
        }
      ]
    },
    {
      "cell_type" : "code",
      "execution_count" : 13,
      "metadata" : {
        "cell.metadata.exec_info" : {
          "startTs" : 1593584957324,
          "endTs" : 1593584971453
        },
        "language" : "scala"
      },
      "language" : "scala",
      "source" : [
        "// 그 중 한 건의 데이터에 대해 order_status를 ordered 로 바꾸도록 합니다. (그 전엔 delivered)\n",
        "val updatedOlistOrdersDF = olistOrdersDF\n",
        "  .where(\"order_id = '157ec3dc3f38cdbd2706bd216edfe8fb'\")\n",
        "  .withColumn(\"order_status\", lit(\"ordered\"))\n",
        "\n",
        "// update 합니다.\n",
        "// SaveMode가 Append 로 바뀐 것을 보실 수 있습니다.\n",
        "updatedOlistOrdersDF\n",
        "  .withColumn(\"order_purchase_date\", regexp_replace(col(\"order_purchase_date\"), \"-\", \"/\"))\n",
        "  .write\n",
        "  .format(\"hudi\")\n",
        "  .options(getQuickstartWriteConfigs)\n",
        "  .option(RECORDKEY_FIELD_OPT_KEY, \"order_id\")\n",
        "  .option(PRECOMBINE_FIELD_OPT_KEY, \"order_purchase_timestamp\")\n",
        "  .option(PARTITIONPATH_FIELD_OPT_KEY, \"order_purchase_date\")\n",
        "  .option(HIVE_SYNC_ENABLED_OPT_KEY, \"true\")\n",
        "  .option(HIVE_PARTITION_FIELDS_OPT_KEY, \"order_purchase_date\")\n",
        "  .option(HIVE_DATABASE_OPT_KEY, dbName)\n",
        "  .option(HIVE_TABLE_OPT_KEY, tableName)\n",
        "  .option(TABLE_NAME, tableName)\n",
        "  .mode(Append)\n",
        "  .save(basePath)"
      ],
      "outputs" : [
      ]
    },
    {
      "cell_type" : "code",
      "execution_count" : 22,
      "metadata" : {
        "cell.metadata.exec_info" : {
          "startTs" : 1593584992113,
          "endTs" : 1593584998131
        },
        "language" : "scala"
      },
      "language" : "scala",
      "source" : [
        "// 다시 한 번 2개의 테이블을 쿼리 해 보도록 하겠습니다.\n",
        "println(\"**** olist_orders_mor_ro ****\")\n",
        "spark.sql(\"\"\"\n",
        "    select *\n",
        "    from hudi.olist_orders_mor_ro\n",
        "    where order_purchase_date = '2017-01-06'\n",
        "\"\"\").show(false)\n",
        "\n",
        "println(\"**** olist_orders_mor_rt ****\")\n",
        "spark.sql(\"\"\"\n",
        "    select *\n",
        "    from hudi.olist_orders_mor_rt\n",
        "    where order_purchase_date = '2017-01-06'\n",
        "\"\"\").show(false)\n",
        "\n",
        "// _ro 는 데이터가 변경되지 않고, _rt는 데이터가 변경 된 것을 보실 수 있습니다.\n",
        "// 이쯤에서 S3의 변경 사항을 보셔야 하는데, 우선 commit 이 deltacommit 으로 변경 된 것을 보실 수 있습니다.\n",
        "// 그리고 파티션에 해당하는 디렉토리를 보시면, log 파일이 생성 된 것을 보실 수 있습니다.\n",
        "// 이 log 파일은 변경분에 대한 파일이며 avro로 인코딩 된 파일 입니다.\n",
        "\n",
        "// 그러면 이쯤에서 compaction 에 대한 이야기를 꺼내야 할 것 같습니다.\n",
        "// MOR 에서 지속적으로 log 파일들이 쌓이면서 성능도 안좋아질 것이기 때문에, 정리를 하여야 합니다.\n",
        "// base + log가 결합 된 최신의 데이터를 parquet 파일로 변환하는 과정이고 이를 다시 base로 만드는 것입니다.\n",
        "\n",
        "// inline으로(데이터를 ) 하는 방법과 명시적 command 등을 날려서 하는 방법이 있습니다.\n",
        "// 시간 관계상 이라는 핑계를 대고 이 부분은 지금 하진 않겠습니다.\n",
        "// inline은 아래의 페이지\n",
        "// https://hudi.apache.org/docs/configurations.html#withInlineCompaction\n",
        "// https://hudi.apache.org/docs/configurations.html#writeclient-configs\n",
        "// command로 하는 부분은 아래의 페이지를 참고해 주세요.\n",
        "// https://github.com/apache/hudi/blob/master/hudi-utilities/src/main/java/org/apache/hudi/utilities/HoodieCompactor.java"
      ],
      "outputs" : [
        {
          "name" : "stdout",
          "text" : [
            "**** olist_orders_mor_ro ****\n",
            "+-------------------+--------------------+--------------------------------+----------------------+---------------------------------------------------------------------+--------------------------------+--------------------------------+------------+------------------------+-----------------+----------------------------+-----------------------------+-----------------------------+-------------------+\n",
            "|_hoodie_commit_time|_hoodie_commit_seqno|_hoodie_record_key              |_hoodie_partition_path|_hoodie_file_name                                                    |order_id                        |customer_id                     |order_status|order_purchase_timestamp|order_approved_at|order_delivered_carrier_date|order_delivered_customer_date|order_estimated_delivery_date|order_purchase_date|\n",
            "+-------------------+--------------------+--------------------------------+----------------------+---------------------------------------------------------------------+--------------------------------+--------------------------------+------------+------------------------+-----------------+----------------------------+-----------------------------+-----------------------------+-------------------+\n",
            "|20200701061526     |20200701061526_1_2  |89898719573722b59b173f76fb213501|2017/01/06            |5d8c1252-db0c-4913-8581-96ca5030449c-0_1-22-40_20200701061526.parquet|89898719573722b59b173f76fb213501|d2b141e8cefd8acb97baee4b25b01ea5|delivered   |1483716887000000        |1483717815000000 |1484027555000000            |1488773700000000             |1487084400000000             |2017-01-06         |\n",
            "|20200701061526     |20200701061526_1_4  |bf44408de1d05eef70fb026ba64a90ea|2017/01/06            |5d8c1252-db0c-4913-8581-96ca5030449c-0_1-22-40_20200701061526.parquet|bf44408de1d05eef70fb026ba64a90ea|96054b94409f7712eeffe8edfa6959a6|delivered   |1483705838000000        |1483985435000000 |1484016786000000            |1484181836000000             |1486998000000000             |2017-01-06         |\n",
            "|20200701061526     |20200701061526_1_5  |1b3d11cf9f92c0f7baf627ab059621f8|2017/01/06            |5d8c1252-db0c-4913-8581-96ca5030449c-0_1-22-40_20200701061526.parquet|1b3d11cf9f92c0f7baf627ab059621f8|85ed641fe825f188f1a67b317b5f540c|delivered   |1483713083000000        |1483713848000000 |1483922036000000            |1484641669000000             |1487170800000000             |2017-01-06         |\n",
            "|20200701061526     |20200701061526_1_6  |e6db6e9529fecbe14cd05dd349816656|2017/01/06            |5d8c1252-db0c-4913-8581-96ca5030449c-0_1-22-40_20200701061526.parquet|e6db6e9529fecbe14cd05dd349816656|6b3efc29f67766dd725bb29e857614f2|delivered   |1483705669000000        |1483706120000000 |1483931314000000            |1484283449000000             |1487516400000000             |2017-01-06         |\n",
            "|20200701061526     |20200701061526_1_7  |157ec3dc3f38cdbd2706bd216edfe8fb|2017/01/06            |5d8c1252-db0c-4913-8581-96ca5030449c-0_1-22-40_20200701061526.parquet|157ec3dc3f38cdbd2706bd216edfe8fb|7dfd10dcc726950fc6171cea83872351|delivered   |1483677796000000        |1483678511000000 |1483945413000000            |1484272693000000             |1487170800000000             |2017-01-06         |\n",
            "+-------------------+--------------------+--------------------------------+----------------------+---------------------------------------------------------------------+--------------------------------+--------------------------------+------------+------------------------+-----------------+----------------------------+-----------------------------+-----------------------------+-------------------+\n",
            "\n",
            "**** olist_orders_mor_rt ****\n",
            "+-------------------+--------------------+--------------------------------+----------------------+---------------------------------------------------------------------+--------------------------------+--------------------------------+------------+------------------------+-----------------+----------------------------+-----------------------------+-----------------------------+-------------------+\n",
            "|_hoodie_commit_time|_hoodie_commit_seqno|_hoodie_record_key              |_hoodie_partition_path|_hoodie_file_name                                                    |order_id                        |customer_id                     |order_status|order_purchase_timestamp|order_approved_at|order_delivered_carrier_date|order_delivered_customer_date|order_estimated_delivery_date|order_purchase_date|\n",
            "+-------------------+--------------------+--------------------------------+----------------------+---------------------------------------------------------------------+--------------------------------+--------------------------------+------------+------------------------+-----------------+----------------------------+-----------------------------+-----------------------------+-------------------+\n",
            "|20200701061526     |20200701061526_1_2  |89898719573722b59b173f76fb213501|2017/01/06            |5d8c1252-db0c-4913-8581-96ca5030449c-0_1-22-40_20200701061526.parquet|89898719573722b59b173f76fb213501|d2b141e8cefd8acb97baee4b25b01ea5|delivered   |1483716887000000        |1483717815000000 |1484027555000000            |1488773700000000             |1487084400000000             |2017-01-06         |\n",
            "|20200701061526     |20200701061526_1_4  |bf44408de1d05eef70fb026ba64a90ea|2017/01/06            |5d8c1252-db0c-4913-8581-96ca5030449c-0_1-22-40_20200701061526.parquet|bf44408de1d05eef70fb026ba64a90ea|96054b94409f7712eeffe8edfa6959a6|delivered   |1483705838000000        |1483985435000000 |1484016786000000            |1484181836000000             |1486998000000000             |2017-01-06         |\n",
            "|20200701061526     |20200701061526_1_5  |1b3d11cf9f92c0f7baf627ab059621f8|2017/01/06            |5d8c1252-db0c-4913-8581-96ca5030449c-0_1-22-40_20200701061526.parquet|1b3d11cf9f92c0f7baf627ab059621f8|85ed641fe825f188f1a67b317b5f540c|delivered   |1483713083000000        |1483713848000000 |1483922036000000            |1484641669000000             |1487170800000000             |2017-01-06         |\n",
            "|20200701061526     |20200701061526_1_6  |e6db6e9529fecbe14cd05dd349816656|2017/01/06            |5d8c1252-db0c-4913-8581-96ca5030449c-0_1-22-40_20200701061526.parquet|e6db6e9529fecbe14cd05dd349816656|6b3efc29f67766dd725bb29e857614f2|delivered   |1483705669000000        |1483706120000000 |1483931314000000            |1484283449000000             |1487516400000000             |2017-01-06         |\n",
            "|20200701062917     |20200701062917_0_1  |157ec3dc3f38cdbd2706bd216edfe8fb|2017/01/06            |5d8c1252-db0c-4913-8581-96ca5030449c-0                               |157ec3dc3f38cdbd2706bd216edfe8fb|7dfd10dcc726950fc6171cea83872351|ordered     |1483677796000000        |1483678511000000 |1483945413000000            |1484272693000000             |1487170800000000             |2017-01-06         |\n",
            "+-------------------+--------------------+--------------------------------+----------------------+---------------------------------------------------------------------+--------------------------------+--------------------------------+------------+------------------------+-----------------+----------------------------+-----------------------------+-----------------------------+-------------------+\n",
            "\n"
          ],
          "output_type" : "stream"
        }
      ]
    }
  ]
}