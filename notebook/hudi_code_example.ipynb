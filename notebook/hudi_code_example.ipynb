{
  "metadata" : {
    "config" : {
      "dependencies" : {
        "scala" : [
          "org.apache.hudi:hudi-spark-bundle_2.11:0.5.2-incubating",
          "org.apache.spark:spark-avro_2.11:2.4.4",
          "org.apache.httpcomponents:httpclient:4.5.12"
        ]
      },
      "exclusions" : [
      ],
      "repositories" : [
      ],
      "sparkConfig" : {
        "spark.serializer" : "org.apache.spark.serializer.KryoSerializer",
        "spark.sql.hive.convertMetastoreParquet" : "false",
        "spark.driver.memory" : "2g",
        "spark.executor.instances" : "2",
        "spark.default.parallelism" : "4",
        "spark.driver.cores" : "1",
        "spark.master" : "yarn",
        "spark.executor.memory" : "3g",
        "spark.dynamicAllocation.enabled" : "false",
        "spark.executor.cores" : "2",
        "spark.sql.shuffle.partitions" : "4"
      },
      "env" : {
        
      }
    },
    "language_info" : {
      "name" : "scala"
    }
  },
  "nbformat" : 4,
  "nbformat_minor" : 0,
  "cells" : [
    {
      "cell_type" : "markdown",
      "execution_count" : 0,
      "metadata" : {
        "language" : "text"
      },
      "language" : "text",
      "source" : [
        "# Hudi example<br>\n",
        "\n",
        "\n"
      ],
      "outputs" : [
      ]
    },
    {
      "cell_type" : "code",
      "execution_count" : 1,
      "metadata" : {
        "cell.metadata.exec_info" : {
          "startTs" : 1593576366648,
          "endTs" : 1593576366789
        },
        "language" : "scala"
      },
      "language" : "scala",
      "source" : [
        "import org.apache.hadoop.fs.FileSystem\n",
        "import org.apache.hudi.QuickstartUtils._\n",
        "import org.apache.spark.sql.SaveMode._\n",
        "import org.apache.spark.sql.functions._\n",
        "import org.apache.hudi.DataSourceReadOptions._\n",
        "import org.apache.hudi.DataSourceWriteOptions._\n",
        "import org.apache.hudi.config.HoodieWriteConfig._\n",
        "import scala.collection.JavaConversions._"
      ],
      "outputs" : [
      ]
    },
    {
      "cell_type" : "code",
      "execution_count" : 2,
      "metadata" : {
        "cell.metadata.exec_info" : {
          "startTs" : 1593576742007,
          "endTs" : 1593576745064
        },
        "language" : "scala"
      },
      "language" : "scala",
      "source" : [
        "// olist_orders dataset\n",
        "val datasetPath = \"s3://kiyoung-data-us-east-1/dataset/olist_orders_dataset\"\n",
        "val df = spark.read.load(datasetPath)"
      ],
      "outputs" : [
      ]
    },
    {
      "cell_type" : "code",
      "execution_count" : 3,
      "metadata" : {
        "cell.metadata.exec_info" : {
          "startTs" : 1593576745068,
          "endTs" : 1593576746483
        },
        "language" : "scala"
      },
      "language" : "scala",
      "source" : [
        "// 데이터는 잘 있습니다.\n",
        "df.show"
      ],
      "outputs" : [
        {
          "name" : "stdout",
          "text" : [
            "+--------------------+--------------------+------------+------------------------+-------------------+----------------------------+-----------------------------+-----------------------------+\n",
            "|            order_id|         customer_id|order_status|order_purchase_timestamp|  order_approved_at|order_delivered_carrier_date|order_delivered_customer_date|order_estimated_delivery_date|\n",
            "+--------------------+--------------------+------------+------------------------+-------------------+----------------------------+-----------------------------+-----------------------------+\n",
            "|995392413cee61cc1...|4bf24904ec428325a...|   delivered|     2017-09-04 13:24:05|2017-09-04 13:43:54|         2017-09-13 08:20:04|          2017-09-22 12:09:32|          2017-09-26 15:00:00|\n",
            "|b39de9ed2bb8fd08a...|ed18b557140ff674f...|   delivered|     2018-03-27 00:15:17|2018-03-27 00:30:12|         2018-03-27 14:52:09|          2018-04-11 12:51:02|          2018-04-25 15:00:00|\n",
            "|b1a88554eb1f7f686...|5cf799d0ac88e1d32...|   delivered|     2018-06-12 17:19:56|2018-06-13 17:39:10|         2018-06-14 04:55:00|          2018-06-20 12:07:29|          2018-07-12 15:00:00|\n",
            "|fe2ac30768e07e362...|be07f06f183227b5c...|   delivered|     2017-01-16 07:41:18|2017-01-16 08:30:23|         2017-01-17 02:26:52|          2017-01-26 07:24:07|          2017-02-21 15:00:00|\n",
            "|460673777918e7a42...|6f352988122e277e6...|   delivered|     2018-02-07 13:38:41|2018-02-08 13:30:24|         2018-02-09 07:56:51|          2018-02-24 09:06:45|          2018-03-04 15:00:00|\n",
            "|c170c51c1eb31dee8...|3dd75da63afb021f9...|   delivered|     2017-10-04 06:32:22|2017-10-04 06:44:49|         2017-10-06 12:42:15|          2017-10-11 10:06:33|          2017-10-29 15:00:00|\n",
            "|575ca88a26f8e32bb...|d73698c8fc11e06d4...|   delivered|     2018-01-10 03:01:27|2018-01-11 02:52:23|         2018-01-12 13:00:11|          2018-02-08 15:09:00|          2018-02-13 15:00:00|\n",
            "|20fb6eab29c449df8...|2020c90730cbf8fae...|   delivered|     2018-02-02 01:06:00|2018-02-02 01:16:08|         2018-02-06 12:59:28|          2018-02-23 14:56:35|          2018-03-05 15:00:00|\n",
            "|96c21ec9db51ad9d0...|14f2ec23fb7f10a1c...|   delivered|     2017-08-14 11:49:22|2017-08-14 12:30:23|         2017-08-15 07:42:26|          2017-08-16 05:46:49|          2017-08-24 15:00:00|\n",
            "|750ed62dff96bf571...|a05f88744e7de808e...|    canceled|     2018-05-28 02:18:59|2018-05-28 18:15:20|                        null|                         null|          2018-06-19 15:00:00|\n",
            "|7cc42e63e4677cbb3...|89c95f6bba6ab0759...|   delivered|     2018-05-14 03:48:29|2018-05-14 04:16:57|         2018-05-15 23:54:00|          2018-05-21 12:42:11|          2018-05-28 15:00:00|\n",
            "|e36869cebed0b0d8f...|5f8fcc77fad064960...|   delivered|     2017-06-29 06:27:53|2017-06-29 06:35:20|         2017-06-30 05:28:12|          2017-07-09 06:47:43|          2017-08-01 15:00:00|\n",
            "|c2fd626797fb5ca56...|3f177c07b625f8800...|   delivered|     2018-03-13 07:58:02|2018-03-14 18:15:51|         2018-03-15 09:28:52|          2018-04-04 07:48:30|          2018-04-17 15:00:00|\n",
            "|88ed58abfdfae2aeb...|253a82284b4833ac3...|   delivered|     2018-04-24 09:28:49|2018-04-24 10:23:34|         2018-04-25 21:20:00|          2018-04-30 12:12:03|          2018-05-21 15:00:00|\n",
            "|e5a8151b77b30febb...|bc0268fa49c936b82...|   delivered|     2017-11-02 12:17:47|2017-11-02 12:30:26|         2017-11-03 11:57:30|          2017-11-08 10:14:01|          2017-11-22 15:00:00|\n",
            "|448a4837b41e7f24a...|85e150f36bbcdbcee...|   delivered|     2018-06-14 05:28:01|2018-06-14 05:58:51|         2018-06-14 05:20:00|          2018-06-25 07:18:43|          2018-07-16 15:00:00|\n",
            "|5d4f5212371724259...|9534eefb05c89b50b...|   delivered|     2017-09-11 02:29:12|2017-09-11 02:43:43|         2017-09-13 07:41:25|          2017-09-25 09:42:41|          2017-10-08 15:00:00|\n",
            "|71affeaa67493ff0d...|f369d58e475e144e5...|   delivered|     2018-04-10 09:30:50|2018-04-10 09:50:21|         2018-04-12 10:41:08|          2018-04-16 09:21:45|          2018-05-08 15:00:00|\n",
            "|4baa06417aa0574e5...|e4b6766132b13b3ab...|   delivered|     2018-04-07 02:31:07|2018-04-09 19:10:49|         2018-04-10 13:41:56|          2018-04-17 13:03:28|          2018-05-14 15:00:00|\n",
            "|5ffe81e9175008222...|497ee8ce7cf70245d...|   delivered|     2017-09-26 07:44:24|2017-09-26 07:57:02|         2017-09-27 06:30:33|          2017-10-11 09:38:14|          2017-10-30 15:00:00|\n",
            "+--------------------+--------------------+------------+------------------------+-------------------+----------------------------+-----------------------------+-----------------------------+\n",
            "only showing top 20 rows\n",
            "\n"
          ],
          "output_type" : "stream"
        }
      ]
    },
    {
      "cell_type" : "code",
      "execution_count" : 4,
      "metadata" : {
        "cell.metadata.exec_info" : {
          "startTs" : 1593525271493,
          "endTs" : 1593525271606
        },
        "language" : "scala"
      },
      "language" : "scala",
      "source" : [
        "// 스키마는 이렇게 생겼습니다.\n",
        "df.printSchema"
      ],
      "outputs" : [
        {
          "name" : "stdout",
          "text" : [
            "root\n",
            " |-- order_id: string (nullable = true)\n",
            " |-- customer_id: string (nullable = true)\n",
            " |-- order_status: string (nullable = true)\n",
            " |-- order_purchase_timestamp: timestamp (nullable = true)\n",
            " |-- order_approved_at: timestamp (nullable = true)\n",
            " |-- order_delivered_carrier_date: timestamp (nullable = true)\n",
            " |-- order_delivered_customer_date: timestamp (nullable = true)\n",
            " |-- order_estimated_delivery_date: timestamp (nullable = true)\n",
            "\n"
          ],
          "output_type" : "stream"
        }
      ]
    },
    {
      "cell_type" : "code",
      "execution_count" : 5,
      "metadata" : {
        "cell.metadata.exec_info" : {
          "startTs" : 1593576753057,
          "endTs" : 1593576753355
        },
        "language" : "scala"
      },
      "language" : "scala",
      "source" : [
        "// hudi 데이터를 저장할 path 와 table 이름 입니다.\n",
        "val basePath = \"s3://kiyoung-data-store-us-east-1/hudi/olist_orders_dataset_cow\"\n",
        "val dbName = \"hudi\"\n",
        "val tableName = \"olist_orders_cow\"\n",
        "\n",
        "// 이 녀석은 예제에 많이 나오는 녀석인데, 별 것은 아니고, hoodie의 parallelism 셋팅 입니다.\n",
        "getQuickstartWriteConfigs"
      ],
      "outputs" : [
        {
          "execution_count" : 5,
          "data" : {
            "text/plain" : [
              "{hoodie.upsert.shuffle.parallelism=2, hoodie.insert.shuffle.parallelism=2}"
            ]
          },
          "metadata" : {
            "name" : "Out",
            "type" : "Map[String, String]"
          },
          "output_type" : "execute_result"
        }
      ]
    },
    {
      "cell_type" : "code",
      "execution_count" : 6,
      "metadata" : {
        "cell.metadata.exec_info" : {
          "startTs" : 1593525215127,
          "endTs" : 1593525224081
        },
        "language" : "scala"
      },
      "language" : "scala",
      "source" : [
        "// insert\n",
        "// 쓰잘데기 없이 오래 걸립니다.\n",
        "// 이유는 파티션 때문인데, order_purchase_timestamp 키를 파티션을 나누며, 데이터가 timestamp 이다 보니 많은 수의 partition이 생성 됩니다.\n",
        "// 만약 제가 실행하면 말려 주십시오.\n",
        "df.write\n",
        "  .format(\"hudi\")\n",
        "  .options(getQuickstartWriteConfigs)\n",
        "  .option(RECORDKEY_FIELD_OPT_KEY, \"order_id\")\n",
        "  .option(PRECOMBINE_FIELD_OPT_KEY, \"order_purchase_timestamp\")\n",
        "  .option(PARTITIONPATH_FIELD_OPT_KEY, \"order_purchase_timestamp\")\n",
        "  .option(TABLE_NAME, tableName)\n",
        "  .mode(Overwrite)\n",
        "  .save(basePath)\n",
        "\n",
        "/*\n",
        "RECORDKEY_FIELD_OPT_KEY\n",
        "  - Record key field 로 PK라고 보시면 됩니다. 같은 value가 있을 경우 이 키를 기준으로 update/delete 등을 결정합니다.\n",
        "PRECOMBINE_FIELD_OPT_KEY\n",
        "  - 위의 RECORDKEY_FIELD_OPT_KEY 를 기준으로 두 개의 같은 row가 있을 경우 이 키를 기준으로 큰 값을 최신 데이터로 결정합니다.\n",
        "  - 쉽게 같은 값이 있을 경우 이 키로 어떤 값을 쓸지 결정 합니다.\n",
        "  - rdb 에서 보통 created_at, updated_at 으로 row가 생성 된 일자, update 된 일자를 기록하는데 updated_at 으로 가장 최신의 데이터를 결장하는 방식입니다.\n",
        "PARTITIONPATH_FIELD_OPT_KEY\n",
        "  - 파티션 키로 이 필드를 기준으로 파티션을 생성합니다.\n",
        "  - hudi 로 업데이틑 한다고 하면, 전체 데이터에서 같은 key를 찾아 data를 업데이트 하긴 어렵습니다.\n",
        "  - 그렇게 때문에 Hudi는 Partition을 내에서 데이터를 찾으며, 이를 강제하고 있습니다.\n",
        "*/ "
      ],
      "outputs" : [
        {
          "ename" : "java.lang.InterruptedException",
          "evalue" : "Execution was interrupted by the user",
          "traceback" : [
          ],
          "output_type" : "error"
        }
      ]
    },
    {
      "cell_type" : "code",
      "execution_count" : 7,
      "metadata" : {
        "cell.metadata.exec_info" : {
          "startTs" : 1593577711025,
          "endTs" : 1593577725160
        },
        "language" : "scala"
      },
      "language" : "scala",
      "source" : [
        "// ** Insert **\n",
        "// 항상 강조하지만 파티션은 소중합니다.\n",
        "// 파티션용으로 쓸 컬럼을 order_purchase_timestamp 에서 일자 부분만 잘라 order_purchase_date 컬럼으로 만들어 주도록 하겠습니다.\n",
        "// 소중한 시간을 위해 몇개의 일자만 필터링 하도록 하겠습니다.\n",
        "// 어서 좋은 랩탑이 왔으면 좋겠습니다. -> 왔습니다. 짠.\n",
        "df.withColumn(\"order_purchase_date\", regexp_replace(date_format(to_date(col(\"order_purchase_timestamp\")), \"yyyy-MM-dd\"), \"-\", \"/\"))\n",
        "  .filter(\"order_purchase_date='2018/05/28' or order_purchase_date='2017/09/11' or order_purchase_date='2018/08/10' or order_purchase_date='2017/01/06'\")\n",
        "  .write\n",
        "  .format(\"hudi\")\n",
        "  .options(getQuickstartWriteConfigs)\n",
        "  .option(RECORDKEY_FIELD_OPT_KEY, \"order_id\")\n",
        "  .option(PRECOMBINE_FIELD_OPT_KEY, \"order_purchase_timestamp\")\n",
        "  .option(PARTITIONPATH_FIELD_OPT_KEY, \"order_purchase_date\")\n",
        "  .option(HIVE_SYNC_ENABLED_OPT_KEY, \"true\")\n",
        "  .option(HIVE_PARTITION_FIELDS_OPT_KEY, \"order_purchase_date\")\n",
        "  .option(HIVE_DATABASE_OPT_KEY, dbName)\n",
        "  .option(HIVE_TABLE_OPT_KEY, tableName)\n",
        "  .option(TABLE_NAME, tableName)\n",
        "  .mode(Overwrite)\n",
        "  .save(basePath)\n",
        "\n",
        "// 이렇게 생성 된 Hudi 데이터는 Hive, Presto, Spark 에서 읽으실 수 있습니다.\n",
        "// https://hudi.apache.org/docs/querying_data.html\n",
        "\n",
        "// Athena는 Hudi를 지원하지 않는다고 나와 있습니다.\n",
        "// https://docs.aws.amazon.com/emr/latest/ReleaseGuide/emr-hudi-considerations.html\n",
        "\n",
        "// 그러나!! 이 demo를 만들면서 테스트 해 봤더니 지원합니다. (us-east-1)\n",
        "// 7/15일까지 compact version에 대한 read를 지원한다고 합니다.\n",
        "// https://answers.amazon.com/questions/124938\n",
        "\n",
        "// Athena와 Hive 에서 쿼리 해 보겠습니다."
      ],
      "outputs" : [
      ]
    },
    {
      "cell_type" : "code",
      "execution_count" : 8,
      "metadata" : {
        "cell.metadata.exec_info" : {
          "startTs" : 1593576784633,
          "endTs" : 1593576786291
        },
        "language" : "scala"
      },
      "language" : "scala",
      "source" : [
        "// 저장 된 데이터를 로드해 볼까요?\n",
        "val hudiDF = spark\n",
        "  .read\n",
        "  .format(\"hudi\")\n",
        "  .load(basePath + \"/*/*/*\")"
      ],
      "outputs" : [
      ]
    },
    {
      "cell_type" : "code",
      "execution_count" : 9,
      "metadata" : {
        "cell.metadata.exec_info" : {
          "startTs" : 1593576800703,
          "endTs" : 1593576801004
        },
        "language" : "scala"
      },
      "language" : "scala",
      "source" : [
        "// 참 쉽죠~\n",
        "hudiDF.show(false)"
      ],
      "outputs" : [
        {
          "name" : "stdout",
          "text" : [
            "+-------------------+--------------------+--------------------------------+----------------------+----------------------------------------------------------------------+--------------------------------+--------------------------------+------------+------------------------+-------------------+----------------------------+-----------------------------+-----------------------------+-------------------+\n",
            "|_hoodie_commit_time|_hoodie_commit_seqno|_hoodie_record_key              |_hoodie_partition_path|_hoodie_file_name                                                     |order_id                        |customer_id                     |order_status|order_purchase_timestamp|order_approved_at  |order_delivered_carrier_date|order_delivered_customer_date|order_estimated_delivery_date|order_purchase_date|\n",
            "+-------------------+--------------------+--------------------------------+----------------------+----------------------------------------------------------------------+--------------------------------+--------------------------------+------------+------------------------+-------------------+----------------------------+-----------------------------+-----------------------------+-------------------+\n",
            "|20200701041236     |20200701041236_2_3  |2aee9216e013859db72c7eae0a7dadc1|2018/08/10            |d7a0eaa0-118f-4922-bae5-1f33d1b7a644-0_2-97-189_20200701041236.parquet|2aee9216e013859db72c7eae0a7dadc1|440cb7446d80225897ce4e12af946d5b|shipped     |2018-08-10 09:59:24     |2018-08-10 10:10:18|2018-08-15 04:50:00         |null                         |2018-08-28 15:00:00          |2018/08/10         |\n",
            "|20200701041236     |20200701041236_2_4  |b198ccd6b70f2462922861e8c5a571cf|2018/08/10            |d7a0eaa0-118f-4922-bae5-1f33d1b7a644-0_2-97-189_20200701041236.parquet|b198ccd6b70f2462922861e8c5a571cf|2f0aebcd82ba332e4031d14fab704ed9|delivered   |2018-08-10 02:48:43     |2018-08-11 05:55:20|2018-08-13 11:07:00         |2018-08-17 09:16:53          |2018-08-26 15:00:00          |2018/08/10         |\n",
            "|20200701041236     |20200701041236_2_5  |e9dba6bfcfe93b3c8e6f4ab356cb90df|2018/08/10            |d7a0eaa0-118f-4922-bae5-1f33d1b7a644-0_2-97-189_20200701041236.parquet|e9dba6bfcfe93b3c8e6f4ab356cb90df|80fa5e87f845ffa3b3176cc677e842cf|delivered   |2018-08-10 00:06:25     |2018-08-10 00:55:16|2018-08-10 02:11:00         |2018-08-16 12:42:00          |2018-08-28 15:00:00          |2018/08/10         |\n",
            "|20200701041236     |20200701041236_2_6  |818fffaae89ab44e0f2254ab0a2b560d|2018/08/10            |d7a0eaa0-118f-4922-bae5-1f33d1b7a644-0_2-97-189_20200701041236.parquet|818fffaae89ab44e0f2254ab0a2b560d|535df384a6e62f8a3c5b6e6997a737ab|delivered   |2018-08-10 03:12:35     |2018-08-10 03:25:15|2018-08-13 05:31:00         |2018-08-20 15:52:38          |2018-08-29 15:00:00          |2018/08/10         |\n",
            "|20200701041236     |20200701041236_2_7  |cf760ac414f55959d91e54756bb77fda|2018/08/10            |d7a0eaa0-118f-4922-bae5-1f33d1b7a644-0_2-97-189_20200701041236.parquet|cf760ac414f55959d91e54756bb77fda|62b64a12ef5c1275684db5d78e0d50d1|delivered   |2018-08-10 08:40:07     |2018-08-10 08:55:11|2018-08-13 01:41:00         |2018-08-20 14:18:41          |2018-08-23 15:00:00          |2018/08/10         |\n",
            "|20200701041236     |20200701041236_2_8  |99db47a6842959e2064fb56a7b4c91e0|2018/08/10            |d7a0eaa0-118f-4922-bae5-1f33d1b7a644-0_2-97-189_20200701041236.parquet|99db47a6842959e2064fb56a7b4c91e0|b342ca79f686b55a788bc622595ad4a1|delivered   |2018-08-10 14:20:31     |2018-08-10 14:30:19|2018-08-16 05:53:00         |2018-08-25 03:32:27          |2018-08-30 15:00:00          |2018/08/10         |\n",
            "|20200701041236     |20200701041236_2_9  |650e96bb8f069e30f346534aa42860a7|2018/08/10            |d7a0eaa0-118f-4922-bae5-1f33d1b7a644-0_2-97-189_20200701041236.parquet|650e96bb8f069e30f346534aa42860a7|020fff139f1af3a6dff28456f386fe2d|delivered   |2018-08-10 07:55:53     |2018-08-10 08:05:17|2018-08-13 06:17:00         |2018-08-14 08:26:42          |2018-08-15 15:00:00          |2018/08/10         |\n",
            "|20200701041236     |20200701041236_2_10 |0478ce23b7b39ac01b3bbd39109b083a|2018/08/10            |d7a0eaa0-118f-4922-bae5-1f33d1b7a644-0_2-97-189_20200701041236.parquet|0478ce23b7b39ac01b3bbd39109b083a|58a6c377f5305b1cdfa593156d15b147|delivered   |2018-08-10 05:19:42     |2018-08-13 19:15:28|2018-08-14 04:23:00         |2018-08-17 09:27:54          |2018-08-21 15:00:00          |2018/08/10         |\n",
            "|20200701041236     |20200701041236_2_11 |4b30d547305dc914c94aaef8f842ebc2|2018/08/10            |d7a0eaa0-118f-4922-bae5-1f33d1b7a644-0_2-97-189_20200701041236.parquet|4b30d547305dc914c94aaef8f842ebc2|665529d7b38b94e83d5ddf8efa19ca3b|delivered   |2018-08-10 00:22:06     |2018-08-10 00:35:19|2018-08-10 04:52:00         |2018-08-20 09:56:31          |2018-09-04 15:00:00          |2018/08/10         |\n",
            "|20200701041236     |20200701041236_2_12 |42e0016d4e9741a353d671930aa9f3d5|2018/08/10            |d7a0eaa0-118f-4922-bae5-1f33d1b7a644-0_2-97-189_20200701041236.parquet|42e0016d4e9741a353d671930aa9f3d5|22d71d5bfb32603ec8ebdf2bf6bde858|delivered   |2018-08-10 12:12:22     |2018-08-10 12:25:20|2018-08-14 04:15:00         |2018-08-20 10:59:01          |2018-08-28 15:00:00          |2018/08/10         |\n",
            "|20200701041236     |20200701041236_2_13 |3c18b2ddaa9cdf16188ac0ca3ad8dee4|2018/08/10            |d7a0eaa0-118f-4922-bae5-1f33d1b7a644-0_2-97-189_20200701041236.parquet|3c18b2ddaa9cdf16188ac0ca3ad8dee4|85f4e922a0f385268a765354f2d55a35|delivered   |2018-08-10 07:25:13     |2018-08-13 19:15:20|2018-08-14 04:39:00         |2018-08-17 11:08:48          |2018-09-03 15:00:00          |2018/08/10         |\n",
            "|20200701041236     |20200701041236_2_14 |fd018a548150063127f7b24e9d3eae71|2018/08/10            |d7a0eaa0-118f-4922-bae5-1f33d1b7a644-0_2-97-189_20200701041236.parquet|fd018a548150063127f7b24e9d3eae71|11a5ff795f329ad5bed0b30756f00cbf|delivered   |2018-08-10 09:41:23     |2018-08-10 22:05:08|2018-08-23 10:34:00         |2018-08-24 08:44:44          |2018-08-27 15:00:00          |2018/08/10         |\n",
            "|20200701041236     |20200701041236_2_15 |0858bbf6d922af574797281c8df8de5c|2018/08/10            |d7a0eaa0-118f-4922-bae5-1f33d1b7a644-0_2-97-189_20200701041236.parquet|0858bbf6d922af574797281c8df8de5c|b41ab09d03cd73ae63d8c474d89efed8|delivered   |2018-08-10 05:02:07     |2018-08-10 17:44:37|2018-08-13 06:35:00         |2018-08-14 03:54:54          |2018-08-14 15:00:00          |2018/08/10         |\n",
            "|20200701041236     |20200701041236_2_16 |d3754c7e1266c698c42df6695994328d|2018/08/10            |d7a0eaa0-118f-4922-bae5-1f33d1b7a644-0_2-97-189_20200701041236.parquet|d3754c7e1266c698c42df6695994328d|4257391a8554b013c719946b2ed594a0|delivered   |2018-08-10 01:31:43     |2018-08-10 01:45:00|2018-08-10 03:36:00         |2018-08-17 08:28:39          |2018-09-18 15:00:00          |2018/08/10         |\n",
            "|20200701041236     |20200701041236_2_17 |cadd4c5765abf658117f2cc7e2a639c2|2018/08/10            |d7a0eaa0-118f-4922-bae5-1f33d1b7a644-0_2-97-189_20200701041236.parquet|cadd4c5765abf658117f2cc7e2a639c2|939c6ecf27d8c32e7956b4a2a468326d|canceled    |2018-08-10 12:20:04     |2018-08-10 12:30:18|null                        |null                         |2018-08-23 15:00:00          |2018/08/10         |\n",
            "|20200701041236     |20200701041236_2_18 |2b33526ad18e84975c07ed2d5e513b3c|2018/08/10            |d7a0eaa0-118f-4922-bae5-1f33d1b7a644-0_2-97-189_20200701041236.parquet|2b33526ad18e84975c07ed2d5e513b3c|3054d43d379c9c52f4053d52fa9bebb1|delivered   |2018-08-10 11:02:10     |2018-08-10 11:10:18|2018-08-13 06:06:00         |2018-08-18 11:21:25          |2018-08-15 15:00:00          |2018/08/10         |\n",
            "|20200701041236     |20200701041236_2_19 |cea661692913da073bd99bb510849bdc|2018/08/10            |d7a0eaa0-118f-4922-bae5-1f33d1b7a644-0_2-97-189_20200701041236.parquet|cea661692913da073bd99bb510849bdc|edf3f0e2ffd4f36336cf50b2ea855b53|delivered   |2018-08-10 05:52:35     |2018-08-11 05:55:09|2018-08-13 05:36:00         |2018-08-18 10:29:45          |2018-08-20 15:00:00          |2018/08/10         |\n",
            "|20200701041236     |20200701041236_2_20 |46578f80407b94504c78f7702292e789|2018/08/10            |d7a0eaa0-118f-4922-bae5-1f33d1b7a644-0_2-97-189_20200701041236.parquet|46578f80407b94504c78f7702292e789|ef4644f13feb2fb9cfab80d8cab06784|delivered   |2018-08-10 12:34:11     |2018-08-10 12:50:14|2018-08-15 06:19:00         |2018-08-21 06:12:11          |2018-09-20 15:00:00          |2018/08/10         |\n",
            "|20200701041236     |20200701041236_2_21 |ad635e6771f7a11f6ebac2e8a4260bf9|2018/08/10            |d7a0eaa0-118f-4922-bae5-1f33d1b7a644-0_2-97-189_20200701041236.parquet|ad635e6771f7a11f6ebac2e8a4260bf9|3b97b6044056ec33bfcd32e29de651cd|delivered   |2018-08-10 02:23:10     |2018-08-10 02:35:19|2018-08-15 05:15:00         |2018-08-16 10:38:45          |2018-08-23 15:00:00          |2018/08/10         |\n",
            "|20200701041236     |20200701041236_2_22 |035a721e5bfc1bc3f4e1ba0d7923cc84|2018/08/10            |d7a0eaa0-118f-4922-bae5-1f33d1b7a644-0_2-97-189_20200701041236.parquet|035a721e5bfc1bc3f4e1ba0d7923cc84|fb701899863331f841d102ec35e0f4be|delivered   |2018-08-10 02:16:45     |2018-08-10 19:35:14|2018-08-13 05:53:00         |2018-08-14 11:06:45          |2018-08-14 15:00:00          |2018/08/10         |\n",
            "+-------------------+--------------------+--------------------------------+----------------------+----------------------------------------------------------------------+--------------------------------+--------------------------------+------------+------------------------+-------------------+----------------------------+-----------------------------+-----------------------------+-------------------+\n",
            "only showing top 20 rows\n",
            "\n"
          ],
          "output_type" : "stream"
        }
      ]
    },
    {
      "cell_type" : "code",
      "execution_count" : 10,
      "metadata" : {
        "cell.metadata.exec_info" : {
          "startTs" : 1593576805761,
          "endTs" : 1593576808144
        },
        "language" : "scala"
      },
      "language" : "scala",
      "source" : [
        "// spark sql도 잘 됩니다.\n",
        "spark.sql(\"\"\"\n",
        "    select *\n",
        "    from hudi.olist_orders_cow\n",
        "    where order_purchase_date = '2017-01-06'\n",
        "\"\"\").show(false)"
      ],
      "outputs" : [
        {
          "name" : "stdout",
          "text" : [
            "+-------------------+--------------------+--------------------------------+----------------------+----------------------------------------------------------------------+--------------------------------+--------------------------------+------------+------------------------+-----------------+----------------------------+-----------------------------+-----------------------------+-------------------+\n",
            "|_hoodie_commit_time|_hoodie_commit_seqno|_hoodie_record_key              |_hoodie_partition_path|_hoodie_file_name                                                     |order_id                        |customer_id                     |order_status|order_purchase_timestamp|order_approved_at|order_delivered_carrier_date|order_delivered_customer_date|order_estimated_delivery_date|order_purchase_date|\n",
            "+-------------------+--------------------+--------------------------------+----------------------+----------------------------------------------------------------------+--------------------------------+--------------------------------+------------+------------------------+-----------------+----------------------------+-----------------------------+-----------------------------+-------------------+\n",
            "|20200701041236     |20200701041236_1_1  |89898719573722b59b173f76fb213501|2017/01/06            |490a49b1-1005-48b3-a16d-f579fda3c11e-0_1-97-188_20200701041236.parquet|89898719573722b59b173f76fb213501|d2b141e8cefd8acb97baee4b25b01ea5|delivered   |1483716887000000        |1483717815000000 |1484027555000000            |1488773700000000             |1487084400000000             |2017-01-06         |\n",
            "|20200701041236     |20200701041236_1_2  |bf44408de1d05eef70fb026ba64a90ea|2017/01/06            |490a49b1-1005-48b3-a16d-f579fda3c11e-0_1-97-188_20200701041236.parquet|bf44408de1d05eef70fb026ba64a90ea|96054b94409f7712eeffe8edfa6959a6|delivered   |1483705838000000        |1483985435000000 |1484016786000000            |1484181836000000             |1486998000000000             |2017-01-06         |\n",
            "|20200701041236     |20200701041236_1_3  |1b3d11cf9f92c0f7baf627ab059621f8|2017/01/06            |490a49b1-1005-48b3-a16d-f579fda3c11e-0_1-97-188_20200701041236.parquet|1b3d11cf9f92c0f7baf627ab059621f8|85ed641fe825f188f1a67b317b5f540c|delivered   |1483713083000000        |1483713848000000 |1483922036000000            |1484641669000000             |1487170800000000             |2017-01-06         |\n",
            "|20200701041236     |20200701041236_1_4  |e6db6e9529fecbe14cd05dd349816656|2017/01/06            |490a49b1-1005-48b3-a16d-f579fda3c11e-0_1-97-188_20200701041236.parquet|e6db6e9529fecbe14cd05dd349816656|6b3efc29f67766dd725bb29e857614f2|delivered   |1483705669000000        |1483706120000000 |1483931314000000            |1484283449000000             |1487516400000000             |2017-01-06         |\n",
            "|20200701041236     |20200701041236_1_5  |157ec3dc3f38cdbd2706bd216edfe8fb|2017/01/06            |490a49b1-1005-48b3-a16d-f579fda3c11e-0_1-97-188_20200701041236.parquet|157ec3dc3f38cdbd2706bd216edfe8fb|7dfd10dcc726950fc6171cea83872351|delivered   |1483677796000000        |1483678511000000 |1483945413000000            |1484272693000000             |1487170800000000             |2017-01-06         |\n",
            "+-------------------+--------------------+--------------------------------+----------------------+----------------------------------------------------------------------+--------------------------------+--------------------------------+------------+------------------------+-----------------+----------------------------+-----------------------------+-----------------------------+-------------------+\n",
            "\n"
          ],
          "output_type" : "stream"
        }
      ]
    },
    {
      "cell_type" : "code",
      "execution_count" : 11,
      "metadata" : {
        "cell.metadata.exec_info" : {
          "startTs" : 1593576811882,
          "endTs" : 1593576812750
        },
        "language" : "sql"
      },
      "language" : "sql",
      "source" : [
        "-- 여기서도 할 수 있습니다.\n",
        "select *\n",
        "from hudi.olist_orders_cow\n",
        "where order_purchase_date = '2017-01-06'"
      ],
      "outputs" : [
        {
          "execution_count" : 11,
          "data" : {
            "text/plain" : [
              "[_hoodie_commit_time: string, _hoodie_commit_seqno: string ... 12 more fields]"
            ]
          },
          "metadata" : {
            "name" : "Out",
            "type" : "DataFrame"
          },
          "output_type" : "execute_result"
        }
      ]
    },
    {
      "cell_type" : "code",
      "execution_count" : 12,
      "metadata" : {
        "cell.metadata.exec_info" : {
          "startTs" : 1593577744476,
          "endTs" : 1593577746724
        },
        "language" : "scala"
      },
      "language" : "scala",
      "source" : [
        "// update\n",
        "\n",
        "// 데이터 로드\n",
        "// 한 2017년 1월 6일의 데이터를 로드 하도록 하겠습니다.\n",
        "val olistOrdersDF = spark.sql(\"\"\"\n",
        "    select *\n",
        "    from hudi.olist_orders_cow\n",
        "    where order_purchase_date = '2017-01-06'\n",
        "\"\"\")\n",
        "\n",
        "olistOrdersDF.show(false)"
      ],
      "outputs" : [
        {
          "name" : "stdout",
          "text" : [
            "+-------------------+--------------------+--------------------------------+----------------------+-----------------------------------------------------------------------+--------------------------------+--------------------------------+------------+------------------------+-----------------+----------------------------+-----------------------------+-----------------------------+-------------------+\n",
            "|_hoodie_commit_time|_hoodie_commit_seqno|_hoodie_record_key              |_hoodie_partition_path|_hoodie_file_name                                                      |order_id                        |customer_id                     |order_status|order_purchase_timestamp|order_approved_at|order_delivered_carrier_date|order_delivered_customer_date|order_estimated_delivery_date|order_purchase_date|\n",
            "+-------------------+--------------------+--------------------------------+----------------------+-----------------------------------------------------------------------+--------------------------------+--------------------------------+------------+------------------------+-----------------+----------------------------+-----------------------------+-----------------------------+-------------------+\n",
            "|20200701042831     |20200701042831_1_393|89898719573722b59b173f76fb213501|2017/01/06            |0ef79b00-4c2a-4b07-9014-dc0e3a70cd43-0_1-169-326_20200701042831.parquet|89898719573722b59b173f76fb213501|d2b141e8cefd8acb97baee4b25b01ea5|delivered   |1483716887000000        |1483717815000000 |1484027555000000            |1488773700000000             |1487084400000000             |2017-01-06         |\n",
            "|20200701042831     |20200701042831_1_394|bf44408de1d05eef70fb026ba64a90ea|2017/01/06            |0ef79b00-4c2a-4b07-9014-dc0e3a70cd43-0_1-169-326_20200701042831.parquet|bf44408de1d05eef70fb026ba64a90ea|96054b94409f7712eeffe8edfa6959a6|delivered   |1483705838000000        |1483985435000000 |1484016786000000            |1484181836000000             |1486998000000000             |2017-01-06         |\n",
            "|20200701042831     |20200701042831_1_395|1b3d11cf9f92c0f7baf627ab059621f8|2017/01/06            |0ef79b00-4c2a-4b07-9014-dc0e3a70cd43-0_1-169-326_20200701042831.parquet|1b3d11cf9f92c0f7baf627ab059621f8|85ed641fe825f188f1a67b317b5f540c|delivered   |1483713083000000        |1483713848000000 |1483922036000000            |1484641669000000             |1487170800000000             |2017-01-06         |\n",
            "|20200701042831     |20200701042831_1_396|e6db6e9529fecbe14cd05dd349816656|2017/01/06            |0ef79b00-4c2a-4b07-9014-dc0e3a70cd43-0_1-169-326_20200701042831.parquet|e6db6e9529fecbe14cd05dd349816656|6b3efc29f67766dd725bb29e857614f2|delivered   |1483705669000000        |1483706120000000 |1483931314000000            |1484283449000000             |1487516400000000             |2017-01-06         |\n",
            "|20200701042831     |20200701042831_1_397|157ec3dc3f38cdbd2706bd216edfe8fb|2017/01/06            |0ef79b00-4c2a-4b07-9014-dc0e3a70cd43-0_1-169-326_20200701042831.parquet|157ec3dc3f38cdbd2706bd216edfe8fb|7dfd10dcc726950fc6171cea83872351|delivered   |1483677796000000        |1483678511000000 |1483945413000000            |1484272693000000             |1487170800000000             |2017-01-06         |\n",
            "+-------------------+--------------------+--------------------------------+----------------------+-----------------------------------------------------------------------+--------------------------------+--------------------------------+------------+------------------------+-----------------+----------------------------+-----------------------------+-----------------------------+-------------------+\n",
            "\n"
          ],
          "output_type" : "stream"
        }
      ]
    },
    {
      "cell_type" : "code",
      "execution_count" : 13,
      "metadata" : {
        "cell.metadata.exec_info" : {
          "startTs" : 1593577753082,
          "endTs" : 1593577765805
        },
        "language" : "scala"
      },
      "language" : "scala",
      "source" : [
        "// 그 중 한 건의 데이터에 대해 order_status를 ordered 로 바꾸도록 합니다. (그 전엔 delivered)\n",
        "val updatedOlistOrdersDF = olistOrdersDF\n",
        "  .where(\"order_id = '157ec3dc3f38cdbd2706bd216edfe8fb'\")\n",
        "  .withColumn(\"order_status\", lit(\"ordered\"))\n",
        "\n",
        "// update 합니다.\n",
        "// SaveMode가 Append 로 바뀐 것을 보실 수 있습니다.\n",
        "updatedOlistOrdersDF\n",
        "  .withColumn(\"order_purchase_date\", regexp_replace(col(\"order_purchase_date\"), \"-\", \"/\"))\n",
        "  .write\n",
        "  .format(\"hudi\")\n",
        "  .options(getQuickstartWriteConfigs)\n",
        "  .option(RECORDKEY_FIELD_OPT_KEY, \"order_id\")\n",
        "  .option(PRECOMBINE_FIELD_OPT_KEY, \"order_purchase_timestamp\")\n",
        "  .option(PARTITIONPATH_FIELD_OPT_KEY, \"order_purchase_date\")\n",
        "  .option(HIVE_SYNC_ENABLED_OPT_KEY, \"true\")\n",
        "  .option(HIVE_PARTITION_FIELDS_OPT_KEY, \"order_purchase_date\")\n",
        "  .option(HIVE_DATABASE_OPT_KEY, dbName)\n",
        "  .option(HIVE_TABLE_OPT_KEY, tableName)\n",
        "  .option(TABLE_NAME, tableName)\n",
        "  .mode(Append)\n",
        "  .save(basePath)"
      ],
      "outputs" : [
      ]
    },
    {
      "cell_type" : "code",
      "execution_count" : 14,
      "metadata" : {
        "cell.metadata.exec_info" : {
          "startTs" : 1593580340397,
          "endTs" : 1593580346333
        },
        "language" : "scala"
      },
      "language" : "scala",
      "source" : [
        "// incremental query\n",
        "\n",
        "// commit time 들을 보실 수 있습니다.\n",
        "// 처음 insert, 두번째 update 이렇게 두 번 write 하였기 때문에 2개가 나오는 것을 보실 수 있습니다.\n",
        "val commitsDF = spark.sql(\"\"\"\n",
        "    select distinct(_hoodie_commit_time) as commitTime\n",
        "    from hudi.olist_orders_cow\n",
        "    order by commitTime\n",
        "\"\"\")\n",
        "\n",
        "commitsDF.show(false)"
      ],
      "outputs" : [
        {
          "name" : "stdout",
          "text" : [
            "+--------------+\n",
            "|commitTime    |\n",
            "+--------------+\n",
            "|20200701042831|\n",
            "|20200701042913|\n",
            "+--------------+\n",
            "\n"
          ],
          "output_type" : "stream"
        }
      ]
    },
    {
      "cell_type" : "code",
      "execution_count" : 15,
      "metadata" : {
        "cell.metadata.exec_info" : {
          "startTs" : 1593581565389,
          "endTs" : 1593581570896
        },
        "language" : "scala"
      },
      "language" : "scala",
      "source" : [
        "val commits = commitsDF.map(k => k.getString(0)).take(50)\n",
        "val beginTime = commits(commits.length - 2) // 마지막 commit time을 가져 옵니다."
      ],
      "outputs" : [
      ]
    },
    {
      "cell_type" : "code",
      "execution_count" : 16,
      "metadata" : {
        "cell.metadata.exec_info" : {
          "startTs" : 1593581574270,
          "endTs" : 1593581575158
        },
        "language" : "scala"
      },
      "language" : "scala",
      "source" : [
        "// 위에서 가져온 마지막 commit time을 가지고 데이터를 로드 하면 해당 commit에 대한 data만 보실 수 있습니다.\n",
        "spark.read.format(\"hudi\")\n",
        "  .option(QUERY_TYPE_OPT_KEY, QUERY_TYPE_INCREMENTAL_OPT_VAL)\n",
        "  .option(BEGIN_INSTANTTIME_OPT_KEY, beginTime)\n",
        "  .load(basePath)\n",
        "  .show(false)"
      ],
      "outputs" : [
        {
          "name" : "stdout",
          "text" : [
            "+-------------------+--------------------+--------------------------------+----------------------+-----------------------------------------------------------------------+--------------------------------+--------------------------------+------------+------------------------+-----------------+----------------------------+-----------------------------+-----------------------------+-------------------+\n",
            "|_hoodie_commit_time|_hoodie_commit_seqno|_hoodie_record_key              |_hoodie_partition_path|_hoodie_file_name                                                      |order_id                        |customer_id                     |order_status|order_purchase_timestamp|order_approved_at|order_delivered_carrier_date|order_delivered_customer_date|order_estimated_delivery_date|order_purchase_date|\n",
            "+-------------------+--------------------+--------------------------------+----------------------+-----------------------------------------------------------------------+--------------------------------+--------------------------------+------------+------------------------+-----------------+----------------------------+-----------------------------+-----------------------------+-------------------+\n",
            "|20200701042913     |20200701042913_0_596|157ec3dc3f38cdbd2706bd216edfe8fb|2017/01/06            |0ef79b00-4c2a-4b07-9014-dc0e3a70cd43-0_0-202-393_20200701042913.parquet|157ec3dc3f38cdbd2706bd216edfe8fb|7dfd10dcc726950fc6171cea83872351|ordered     |1483677796000000        |1483678511000000 |1483945413000000            |1484272693000000             |1487170800000000             |2017/01/06         |\n",
            "+-------------------+--------------------+--------------------------------+----------------------+-----------------------------------------------------------------------+--------------------------------+--------------------------------+------------+------------------------+-----------------+----------------------------+-----------------------------+-----------------------------+-------------------+\n",
            "\n"
          ],
          "output_type" : "stream"
        }
      ]
    },
    {
      "cell_type" : "code",
      "execution_count" : 17,
      "metadata" : {
        "cell.metadata.exec_info" : {
          "startTs" : 1593581858873,
          "endTs" : 1593581860764
        },
        "language" : "scala"
      },
      "language" : "scala",
      "source" : [
        "// delete\n",
        "\n",
        "// 삭제 할 데이터.\n",
        "// 위에서 사용한 row 한개를 지우기 위해 데이터를 로드 합니다.\n",
        "val tobeDeletedDF = spark.sql(\"\"\"\n",
        "    select *\n",
        "    from hudi.olist_orders_cow\n",
        "    where order_purchase_date = '2017-01-06'\n",
        "    and order_id = '157ec3dc3f38cdbd2706bd216edfe8fb'\n",
        "\"\"\")\n",
        "\n",
        "tobeDeletedDF.show(false)"
      ],
      "outputs" : [
        {
          "name" : "stdout",
          "text" : [
            "+-------------------+--------------------+--------------------------------+----------------------+-----------------------------------------------------------------------+--------------------------------+--------------------------------+------------+------------------------+-----------------+----------------------------+-----------------------------+-----------------------------+-------------------+\n",
            "|_hoodie_commit_time|_hoodie_commit_seqno|_hoodie_record_key              |_hoodie_partition_path|_hoodie_file_name                                                      |order_id                        |customer_id                     |order_status|order_purchase_timestamp|order_approved_at|order_delivered_carrier_date|order_delivered_customer_date|order_estimated_delivery_date|order_purchase_date|\n",
            "+-------------------+--------------------+--------------------------------+----------------------+-----------------------------------------------------------------------+--------------------------------+--------------------------------+------------+------------------------+-----------------+----------------------------+-----------------------------+-----------------------------+-------------------+\n",
            "|20200701042913     |20200701042913_0_596|157ec3dc3f38cdbd2706bd216edfe8fb|2017/01/06            |0ef79b00-4c2a-4b07-9014-dc0e3a70cd43-0_0-202-393_20200701042913.parquet|157ec3dc3f38cdbd2706bd216edfe8fb|7dfd10dcc726950fc6171cea83872351|ordered     |1483677796000000        |1483678511000000 |1483945413000000            |1484272693000000             |1487170800000000             |2017-01-06         |\n",
            "+-------------------+--------------------+--------------------------------+----------------------+-----------------------------------------------------------------------+--------------------------------+--------------------------------+------------+------------------------+-----------------+----------------------------+-----------------------------+-----------------------------+-------------------+\n",
            "\n"
          ],
          "output_type" : "stream"
        }
      ]
    },
    {
      "cell_type" : "code",
      "execution_count" : 18,
      "metadata" : {
        "cell.metadata.exec_info" : {
          "startTs" : 1593581956809,
          "endTs" : 1593581969244
        },
        "language" : "scala"
      },
      "language" : "scala",
      "source" : [
        "// 아까 업데이트에서 option(OPERATION_OPT_KEY,\"delete\") 만 추가 되었습니다.\n",
        "\n",
        "tobeDeletedDF\n",
        "  .withColumn(\"order_purchase_date\", regexp_replace(col(\"order_purchase_date\"), \"-\", \"/\"))\n",
        "  .write\n",
        "  .format(\"hudi\")\n",
        "  .options(getQuickstartWriteConfigs)\n",
        "  .option(OPERATION_OPT_KEY,\"delete\")\n",
        "  .option(RECORDKEY_FIELD_OPT_KEY, \"order_id\")\n",
        "  .option(PRECOMBINE_FIELD_OPT_KEY, \"order_purchase_timestamp\")\n",
        "  .option(PARTITIONPATH_FIELD_OPT_KEY, \"order_purchase_date\")\n",
        "  .option(HIVE_SYNC_ENABLED_OPT_KEY, \"true\")\n",
        "  .option(HIVE_PARTITION_FIELDS_OPT_KEY, \"order_purchase_date\")\n",
        "  .option(HIVE_DATABASE_OPT_KEY, dbName)\n",
        "  .option(HIVE_TABLE_OPT_KEY, tableName)\n",
        "  .option(TABLE_NAME, tableName)\n",
        "  .mode(Append)\n",
        "  .save(basePath)"
      ],
      "outputs" : [
      ]
    },
    {
      "cell_type" : "code",
      "execution_count" : 19,
      "metadata" : {
        "cell.metadata.exec_info" : {
          "startTs" : 1593581975791,
          "endTs" : 1593581977675
        },
        "language" : "scala"
      },
      "language" : "scala",
      "source" : [
        "// 해당 일자에서 데이터가 없어진 것을 보실 수 있습니다.\n",
        "spark.sql(\"\"\"\n",
        "    select *\n",
        "    from hudi.olist_orders_cow\n",
        "    where order_purchase_date = '2017-01-06'\n",
        "\"\"\").show(false)"
      ],
      "outputs" : [
        {
          "name" : "stdout",
          "text" : [
            "+-------------------+--------------------+--------------------------------+----------------------+-----------------------------------------------------------------------+--------------------------------+--------------------------------+------------+------------------------+-----------------+----------------------------+-----------------------------+-----------------------------+-------------------+\n",
            "|_hoodie_commit_time|_hoodie_commit_seqno|_hoodie_record_key              |_hoodie_partition_path|_hoodie_file_name                                                      |order_id                        |customer_id                     |order_status|order_purchase_timestamp|order_approved_at|order_delivered_carrier_date|order_delivered_customer_date|order_estimated_delivery_date|order_purchase_date|\n",
            "+-------------------+--------------------+--------------------------------+----------------------+-----------------------------------------------------------------------+--------------------------------+--------------------------------+------------+------------------------+-----------------+----------------------------+-----------------------------+-----------------------------+-------------------+\n",
            "|20200701042831     |20200701042831_1_393|89898719573722b59b173f76fb213501|2017/01/06            |0ef79b00-4c2a-4b07-9014-dc0e3a70cd43-0_1-169-326_20200701042831.parquet|89898719573722b59b173f76fb213501|d2b141e8cefd8acb97baee4b25b01ea5|delivered   |1483716887000000        |1483717815000000 |1484027555000000            |1488773700000000             |1487084400000000             |2017-01-06         |\n",
            "|20200701042831     |20200701042831_1_394|bf44408de1d05eef70fb026ba64a90ea|2017/01/06            |0ef79b00-4c2a-4b07-9014-dc0e3a70cd43-0_1-169-326_20200701042831.parquet|bf44408de1d05eef70fb026ba64a90ea|96054b94409f7712eeffe8edfa6959a6|delivered   |1483705838000000        |1483985435000000 |1484016786000000            |1484181836000000             |1486998000000000             |2017-01-06         |\n",
            "|20200701042831     |20200701042831_1_395|1b3d11cf9f92c0f7baf627ab059621f8|2017/01/06            |0ef79b00-4c2a-4b07-9014-dc0e3a70cd43-0_1-169-326_20200701042831.parquet|1b3d11cf9f92c0f7baf627ab059621f8|85ed641fe825f188f1a67b317b5f540c|delivered   |1483713083000000        |1483713848000000 |1483922036000000            |1484641669000000             |1487170800000000             |2017-01-06         |\n",
            "|20200701042831     |20200701042831_1_396|e6db6e9529fecbe14cd05dd349816656|2017/01/06            |0ef79b00-4c2a-4b07-9014-dc0e3a70cd43-0_1-169-326_20200701042831.parquet|e6db6e9529fecbe14cd05dd349816656|6b3efc29f67766dd725bb29e857614f2|delivered   |1483705669000000        |1483706120000000 |1483931314000000            |1484283449000000             |1487516400000000             |2017-01-06         |\n",
            "+-------------------+--------------------+--------------------------------+----------------------+-----------------------------------------------------------------------+--------------------------------+--------------------------------+------------+------------------------+-----------------+----------------------------+-----------------------------+-----------------------------+-------------------+\n",
            "\n"
          ],
          "output_type" : "stream"
        }
      ]
    },
    {
      "cell_type" : "code",
      "execution_count" : 20,
      "metadata" : {
        "language" : "scala"
      },
      "language" : "scala",
      "source" : [
      ],
      "outputs" : [
      ]
    }
  ]
}